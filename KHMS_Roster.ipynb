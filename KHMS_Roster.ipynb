{
 "cells": [
  {
   "cell_type": "code",
   "execution_count": 1,
   "id": "58d95e02",
   "metadata": {},
   "outputs": [],
   "source": [
    "import pandas as pd"
   ]
  },
  {
   "cell_type": "code",
   "execution_count": 4,
   "id": "cbc23afa",
   "metadata": {},
   "outputs": [
    {
     "data": {
      "text/html": [
       "<div>\n",
       "<style scoped>\n",
       "    .dataframe tbody tr th:only-of-type {\n",
       "        vertical-align: middle;\n",
       "    }\n",
       "\n",
       "    .dataframe tbody tr th {\n",
       "        vertical-align: top;\n",
       "    }\n",
       "\n",
       "    .dataframe thead th {\n",
       "        text-align: right;\n",
       "    }\n",
       "</style>\n",
       "<table border=\"1\" class=\"dataframe\">\n",
       "  <thead>\n",
       "    <tr style=\"text-align: right;\">\n",
       "      <th></th>\n",
       "      <th>Student_number</th>\n",
       "      <th>first_name</th>\n",
       "      <th>last_name</th>\n",
       "      <th>grade_level</th>\n",
       "    </tr>\n",
       "  </thead>\n",
       "  <tbody>\n",
       "    <tr>\n",
       "      <th>0</th>\n",
       "      <td>75454</td>\n",
       "      <td>David</td>\n",
       "      <td>Acosta</td>\n",
       "      <td>6</td>\n",
       "    </tr>\n",
       "    <tr>\n",
       "      <th>1</th>\n",
       "      <td>75604</td>\n",
       "      <td>Robert</td>\n",
       "      <td>Alfaro</td>\n",
       "      <td>6</td>\n",
       "    </tr>\n",
       "    <tr>\n",
       "      <th>2</th>\n",
       "      <td>75585</td>\n",
       "      <td>Yeremy</td>\n",
       "      <td>Alvarado</td>\n",
       "      <td>6</td>\n",
       "    </tr>\n",
       "    <tr>\n",
       "      <th>3</th>\n",
       "      <td>75511</td>\n",
       "      <td>Lizett</td>\n",
       "      <td>Amaya</td>\n",
       "      <td>6</td>\n",
       "    </tr>\n",
       "    <tr>\n",
       "      <th>4</th>\n",
       "      <td>75603</td>\n",
       "      <td>Anthony</td>\n",
       "      <td>Anaya</td>\n",
       "      <td>6</td>\n",
       "    </tr>\n",
       "  </tbody>\n",
       "</table>\n",
       "</div>"
      ],
      "text/plain": [
       "   Student_number first_name last_name  grade_level\n",
       "0           75454      David    Acosta            6\n",
       "1           75604     Robert    Alfaro            6\n",
       "2           75585     Yeremy  Alvarado            6\n",
       "3           75511     Lizett     Amaya            6\n",
       "4           75603    Anthony     Anaya            6"
      ]
     },
     "execution_count": 4,
     "metadata": {},
     "output_type": "execute_result"
    }
   ],
   "source": [
    "khms_roster_df = pd.read_csv('Resources/KHMS_Student_Roster.csv')\n",
    "khms_roster_df.head()"
   ]
  },
  {
   "cell_type": "code",
   "execution_count": 6,
   "id": "dbba99d8",
   "metadata": {},
   "outputs": [],
   "source": [
    "khms_roster_df[\"Name\"] = khms_roster_df[\"last_name\"] + \", \" + khms_roster_df[\"first_name\"]"
   ]
  },
  {
   "cell_type": "code",
   "execution_count": 11,
   "id": "d4b2345c",
   "metadata": {},
   "outputs": [],
   "source": [
    "khms_roster_df=khms_roster_df.drop(['first_name', 'last_name'], axis = 1)"
   ]
  },
  {
   "cell_type": "code",
   "execution_count": 12,
   "id": "94630c0f",
   "metadata": {},
   "outputs": [
    {
     "data": {
      "text/html": [
       "<div>\n",
       "<style scoped>\n",
       "    .dataframe tbody tr th:only-of-type {\n",
       "        vertical-align: middle;\n",
       "    }\n",
       "\n",
       "    .dataframe tbody tr th {\n",
       "        vertical-align: top;\n",
       "    }\n",
       "\n",
       "    .dataframe thead th {\n",
       "        text-align: right;\n",
       "    }\n",
       "</style>\n",
       "<table border=\"1\" class=\"dataframe\">\n",
       "  <thead>\n",
       "    <tr style=\"text-align: right;\">\n",
       "      <th></th>\n",
       "      <th>Student_number</th>\n",
       "      <th>grade_level</th>\n",
       "      <th>Name</th>\n",
       "    </tr>\n",
       "  </thead>\n",
       "  <tbody>\n",
       "    <tr>\n",
       "      <th>0</th>\n",
       "      <td>75454</td>\n",
       "      <td>6</td>\n",
       "      <td>Acosta, David</td>\n",
       "    </tr>\n",
       "    <tr>\n",
       "      <th>1</th>\n",
       "      <td>75604</td>\n",
       "      <td>6</td>\n",
       "      <td>Alfaro, Robert</td>\n",
       "    </tr>\n",
       "    <tr>\n",
       "      <th>2</th>\n",
       "      <td>75585</td>\n",
       "      <td>6</td>\n",
       "      <td>Alvarado, Yeremy</td>\n",
       "    </tr>\n",
       "    <tr>\n",
       "      <th>3</th>\n",
       "      <td>75511</td>\n",
       "      <td>6</td>\n",
       "      <td>Amaya, Lizett</td>\n",
       "    </tr>\n",
       "    <tr>\n",
       "      <th>4</th>\n",
       "      <td>75603</td>\n",
       "      <td>6</td>\n",
       "      <td>Anaya, Anthony</td>\n",
       "    </tr>\n",
       "  </tbody>\n",
       "</table>\n",
       "</div>"
      ],
      "text/plain": [
       "   Student_number  grade_level              Name\n",
       "0           75454            6     Acosta, David\n",
       "1           75604            6    Alfaro, Robert\n",
       "2           75585            6  Alvarado, Yeremy\n",
       "3           75511            6     Amaya, Lizett\n",
       "4           75603            6    Anaya, Anthony"
      ]
     },
     "execution_count": 12,
     "metadata": {},
     "output_type": "execute_result"
    }
   ],
   "source": [
    "khms_roster_df.head()"
   ]
  },
  {
   "cell_type": "markdown",
   "id": "7fa9bd54",
   "metadata": {},
   "source": [
    "<h2> Exporting csv </h2>"
   ]
  },
  {
   "cell_type": "code",
   "execution_count": 13,
   "id": "a043562b",
   "metadata": {},
   "outputs": [],
   "source": [
    "khms_roster_df.to_csv('Resources/clean_student_roster', index = False)"
   ]
  },
  {
   "cell_type": "code",
   "execution_count": null,
   "id": "88a52243",
   "metadata": {},
   "outputs": [],
   "source": []
  }
 ],
 "metadata": {
  "kernelspec": {
   "display_name": "Python 3",
   "language": "python",
   "name": "python3"
  },
  "language_info": {
   "codemirror_mode": {
    "name": "ipython",
    "version": 3
   },
   "file_extension": ".py",
   "mimetype": "text/x-python",
   "name": "python",
   "nbconvert_exporter": "python",
   "pygments_lexer": "ipython3",
   "version": "3.8.5"
  }
 },
 "nbformat": 4,
 "nbformat_minor": 5
}
